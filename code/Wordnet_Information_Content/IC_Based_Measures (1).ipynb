{
 "cells": [
  {
   "cell_type": "code",
   "execution_count": 1,
   "metadata": {},
   "outputs": [],
   "source": [
    "from nltk.corpus import wordnet as wn \n",
    "from nltk.corpus import wordnet_ic\n",
    "import csv \n",
    "import pandas as pd\n",
    "import numpy as np \n",
    "from scipy.stats import spearmanr as sp\n",
    "\n",
    "InfoContentFile = wordnet_ic.ic('ic-semcorraw-resnik.dat')  # you can change the corpus from here  \n",
    "# To find which corpus are available C:\\Users\\Jayant\\AppData\\Roaming\\nltk_data\\corpora"
   ]
  },
  {
   "cell_type": "code",
   "execution_count": 2,
   "metadata": {},
   "outputs": [
    {
     "data": {
      "text/plain": [
       "SpearmanrResult(correlation=0.20969672679439227, pvalue=7.18432150485089e-05)"
      ]
     },
     "execution_count": 2,
     "metadata": {},
     "output_type": "execute_result"
    }
   ],
   "source": [
    "df = pd.read_csv(\"G:/IITM/2nd_sem/NLP/NLPpa1/wordsim353/combined.csv\")\n",
    "word1 = df.values[:,0]\n",
    "word2 = df.values[:,1]\n",
    "word3 = df.values[:,2]\n",
    "\n",
    "\n",
    "scores  = np.zeros(353)\n",
    "for k in range (353):\n",
    "    sen1 = wn.synsets(word1[k])\n",
    "    sen2 = wn.synsets(word2[k])\n",
    "    sim_max = 0\n",
    "    for i in sen1:\n",
    "        for j in sen2:\n",
    "            if i.pos() == j.pos():    #information content can be find between 2 similar pos\n",
    "                if i.pos() == 'n' or i.pos() == 'v' :    #information content file are present for noun verb\n",
    "                    x = i.lin_similarity(j,InfoContentFile)    \n",
    "                    if x>sim_max:\n",
    "                        sim_max = x\n",
    "    scores[k] =sim_max\n",
    "    #scores[k,0]=sim_max\n",
    "cor  = sp(scores,word3)\n",
    "cor"
   ]
  },
  {
   "cell_type": "code",
   "execution_count": null,
   "metadata": {},
   "outputs": [],
   "source": []
  }
 ],
 "metadata": {
  "kernelspec": {
   "display_name": "Python 3",
   "language": "python",
   "name": "python3"
  },
  "language_info": {
   "codemirror_mode": {
    "name": "ipython",
    "version": 3
   },
   "file_extension": ".py",
   "mimetype": "text/x-python",
   "name": "python",
   "nbconvert_exporter": "python",
   "pygments_lexer": "ipython3",
   "version": "3.6.4"
  }
 },
 "nbformat": 4,
 "nbformat_minor": 2
}
