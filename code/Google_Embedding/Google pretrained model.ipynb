{
 "cells": [
  {
   "cell_type": "code",
   "execution_count": 1,
   "metadata": {},
   "outputs": [],
   "source": [
    "import gensim\n",
    "from scipy.stats import spearmanr as sp\n",
    "import pandas as pd"
   ]
  },
  {
   "cell_type": "markdown",
   "metadata": {},
   "source": [
    "# For google pretrained model"
   ]
  },
  {
   "cell_type": "code",
   "execution_count": 2,
   "metadata": {},
   "outputs": [],
   "source": [
    "model = gensim.models.KeyedVectors.load_word2vec_format('/media/jaya/study stuffs/IITM/2nd_sem/NLP/NLPpa1/google/GoogleNews-vectors-negative300.bin', binary=True)\n",
    "#model = gensim.models.KeyedVectors.load_word2vec_format('/media/jaya/study stuffs/IITM/2nd_sem/NLP/NLPpa1/code/Model.bin', binary=True)"
   ]
  },
  {
   "cell_type": "code",
   "execution_count": 4,
   "metadata": {
    "scrolled": true
   },
   "outputs": [
    {
     "name": "stdout",
     "output_type": "stream",
     "text": [
      "SpearmanrResult(correlation=0.6912941200317461, pvalue=4.626714954629895e-49)\n"
     ]
    }
   ],
   "source": [
    "#word = model.similarity(word1,word2)\n",
    "df = pd.read_csv('/media/jaya/study stuffs/IITM/2nd_sem/NLP/NLPpa1/google/combined.csv')\n",
    "word1 = df.values[:,0]\n",
    "word2 = df.values[:,1]\n",
    "score_353 = df.values[:,2]\n",
    "  \n",
    "\n",
    "scores =[]\n",
    "for k in range(len(df)):\n",
    "\ttmp = model.similarity(word1[k],word2[k])\n",
    "\tscores.append(tmp)\n",
    "\n",
    "cor  = sp(scores,score_353)\n",
    "print(cor)"
   ]
  },
  {
   "cell_type": "code",
   "execution_count": 32,
   "metadata": {},
   "outputs": [],
   "source": [
    "import numpy as np \n",
    "from sklearn.metrics.pairwise import cosine_similarity\n",
    "from scipy import spatial\n",
    "import sys\n",
    "from scipy.stats import spearmanr as sp\n",
    "\n",
    "\n",
    "emb_size = 100;#int(sys.argv[3]) # size of embedding \n",
    "f = open(\"/media/jaya/study stuffs/IITM/2nd_sem/NLP/NLPpa1/code/Model.txt\",\"r\")\n",
    "data  =f.read()\n",
    "list_of_vectors = data.split(\"\\n\") #contains lines of text file \n",
    "dict = {}\n",
    "\n",
    "\n",
    "for i in range(2,len(list_of_vectors)):\n",
    "\tvector = list_of_vectors[i].split(\" \") \n",
    "\tword = vector[0] # for geting specific english word as key\n",
    "\tvector1 = np.array(vector[1:emb_size])   #vector size = embedding size \n",
    "\tembedding = vector1.astype(float) #conversion from string to float\n",
    "\tdict.update({word:embedding})\n",
    "\n",
    "\n",
    "# vec1 = dict[sys.argv[1]] \n",
    "# vec2 = dict[sys.argv[2]]\n",
    "# sim = 1 - spatial.distance.cosine(vec1,vec2)\n",
    "# print(\"Cosine Similarity :\",sim)\n"
   ]
  },
  {
   "cell_type": "code",
   "execution_count": 36,
   "metadata": {},
   "outputs": [
    {
     "data": {
      "text/plain": [
       "13655"
      ]
     },
     "execution_count": 36,
     "metadata": {},
     "output_type": "execute_result"
    }
   ],
   "source": [
    "len(dict.keys())"
   ]
  },
  {
   "cell_type": "code",
   "execution_count": null,
   "metadata": {},
   "outputs": [],
   "source": [
    "import os\n",
    "import re\n",
    "from nltk.corpus import stopwords\n",
    "from sklearn.feature_extraction.text import CountVectorizer\n",
    "import numpy as np\n",
    "import pandas as pd\n",
    "import scipy as sc\n",
    "path = '/home/sp/NLP_PA1/brown/\n",
    "dirList = os.listdir(path)\"\n"
   ]
  }
 ],
 "metadata": {
  "kernelspec": {
   "display_name": "Python 3",
   "language": "python",
   "name": "python3"
  },
  "language_info": {
   "codemirror_mode": {
    "name": "ipython",
    "version": 3
   },
   "file_extension": ".py",
   "mimetype": "text/x-python",
   "name": "python",
   "nbconvert_exporter": "python",
   "pygments_lexer": "ipython3",
   "version": "3.5.2"
  }
 },
 "nbformat": 4,
 "nbformat_minor": 2
}
